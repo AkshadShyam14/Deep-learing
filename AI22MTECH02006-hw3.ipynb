{
 "cells": [
  {
   "cell_type": "code",
   "execution_count": 199,
   "id": "9f562008",
   "metadata": {},
   "outputs": [],
   "source": [
    "import math\n",
    "import numpy as np\n",
    "from PIL import Image"
   ]
  },
  {
   "cell_type": "markdown",
   "id": "f44d1b34",
   "metadata": {},
   "source": [
    "## 1. Convolution"
   ]
  },
  {
   "cell_type": "code",
   "execution_count": 100,
   "id": "2277a952",
   "metadata": {},
   "outputs": [],
   "source": [
    "#sigmoid function\n",
    "def sigmoid(x):\n",
    "    sig = 1 / (1 + np.exp(-x))\n",
    "    return sig"
   ]
  },
  {
   "cell_type": "code",
   "execution_count": 3,
   "id": "ce727cb6",
   "metadata": {},
   "outputs": [],
   "source": [
    "#tanh\n",
    "def tanh(x):\n",
    "    x = np.array(x,dtype=np.float128)\n",
    "    tanh = (np.exp(x) - np.exp(-x))/(np.exp(x) + np.exp(-x))\n",
    "    return tanh"
   ]
  },
  {
   "cell_type": "code",
   "execution_count": 4,
   "id": "e52193d5",
   "metadata": {},
   "outputs": [],
   "source": [
    "#RelU\n",
    "def RelU(x):\n",
    "    return np.maximum(0,x)\n",
    "    "
   ]
  },
  {
   "cell_type": "code",
   "execution_count": 5,
   "id": "2df26b1c",
   "metadata": {},
   "outputs": [],
   "source": [
    "#Parametric RelU\n",
    "def ParRelU(x,alpha=0.1):\n",
    "    return np.maximum(0,x) + alpha*(np.minimum(0,x))\n",
    "    \n",
    "    "
   ]
  },
  {
   "cell_type": "code",
   "execution_count": 6,
   "id": "23bec44b",
   "metadata": {},
   "outputs": [],
   "source": [
    "#flip the image\n",
    "def flip_image(image):\n",
    "    image_copy = image.copy()\n",
    "    for i in range(image.shape[0]):\n",
    "        for j in range(image.shape[1]):\n",
    "            image_copy[i][j] = image[image.shape[0]-i-1,image.shape[1]-j-1]\n",
    "    return image_copy"
   ]
  },
  {
   "cell_type": "code",
   "execution_count": 7,
   "id": "8fd905b7",
   "metadata": {},
   "outputs": [],
   "source": [
    "def padding_image(image,padding):\n",
    "    r = padding\n",
    "    s = padding\n",
    "    \n",
    "    W = image.shape[0]\n",
    "    H = image.shape[1]\n",
    "    C = image.shape[2]\n",
    "    \n",
    "    padded_array = np.zeros((W+2*r,H+2*s,C))\n",
    "    padded_array[r:W+r,s:H+s] = image\n",
    "    return padded_array"
   ]
  },
  {
   "cell_type": "code",
   "execution_count": 8,
   "id": "ade2ee56",
   "metadata": {},
   "outputs": [],
   "source": [
    "# #sigmoid function\n",
    "# def sigmoid(x):\n",
    "#     W = x.shape[0]\n",
    "#     H = x.shape[1]\n",
    "\n",
    "#     array = x.flatten()\n",
    "#     length = W*H\n",
    "#     for i in range(length):\n",
    "#         array[i] = 1 / (1 + math.exp(-array[i]))\n",
    "#     return array.reshape((W,H))"
   ]
  },
  {
   "cell_type": "code",
   "execution_count": 9,
   "id": "5a9eb59f",
   "metadata": {},
   "outputs": [],
   "source": [
    "def conv(image,kernel,stride,padding,act_function):\n",
    "    kernel = flip_image(kernel)\n",
    "    padded_image = padding_image(image,padding)\n",
    "    \n",
    "    H = padded_image.shape[0]\n",
    "    W = padded_image.shape[1]\n",
    "    C = padded_image.shape[2]\n",
    "    \n",
    "    k_h = kernel.shape[0]\n",
    "    k_w = kernel.shape[1]\n",
    "    \n",
    "    r = k_h//2\n",
    "    s = k_w//2\n",
    "    \n",
    "    conv_h = (int((H-k_h)/stride) + 1)\n",
    "    conv_w = (int((W-k_w)/stride) + 1)\n",
    "    \n",
    "    conv_image = np.zeros((conv_h,conv_w))\n",
    "    \n",
    "\n",
    "\n",
    "    j1=0\n",
    "    for j in range(r,H-r,stride):  \n",
    "        k1=0\n",
    "        for k in range(s,W-s,stride):\n",
    "            sum_value = 0\n",
    "            for m in range(k_h):\n",
    "                for n in range(k_w):\n",
    "                    sum_value = sum_value + np.sum(np.multiply(kernel[m,n],padded_image[j-r+m,k-s+n]))\n",
    "            conv_image[j1,k1] = sum_value\n",
    "            k1+=1\n",
    "        j1+=1\n",
    "    return act_function(conv_image/np.sum(conv_image))\n",
    "                \n",
    "            \n",
    "    "
   ]
  },
  {
   "cell_type": "code",
   "execution_count": 10,
   "id": "ca50aa8d",
   "metadata": {},
   "outputs": [],
   "source": [
    "def unpickle(file):\n",
    "    import pickle\n",
    "    with open(file, 'rb') as fo:\n",
    "        dict = pickle.load(fo,encoding='bytes')\n",
    "    return dict"
   ]
  },
  {
   "cell_type": "code",
   "execution_count": 11,
   "id": "6174db9f",
   "metadata": {},
   "outputs": [
    {
     "data": {
      "text/plain": [
       "<matplotlib.image.AxesImage at 0x1e13bb636a0>"
      ]
     },
     "execution_count": 11,
     "metadata": {},
     "output_type": "execute_result"
    },
    {
     "data": {
      "image/png": "[encoded data removed]",
      "text/plain": [
       "<Figure size 432x288 with 1 Axes>"
      ]
     },
     "metadata": {
      "needs_background": "light"
     },
     "output_type": "display_data"
    }
   ],
   "source": [
    "cifar = unpickle(\"D:\\Classes\\Deep Learning\\Assignments\\cifar\\cifar-10-batches-py\\data_batch_1\")\n",
    "\n",
    "data = cifar[b'data']\n",
    "\n",
    "#Input Image\n",
    "import matplotlib.pyplot as plt\n",
    "array = np.reshape(data[0],(3,32,32)).transpose(1,2,0)\n",
    "plt.imshow(array)"
   ]
  },
  {
   "cell_type": "code",
   "execution_count": null,
   "id": "5fe5615e",
   "metadata": {},
   "outputs": [],
   "source": []
  },
  {
   "cell_type": "code",
   "execution_count": 12,
   "id": "072b149f",
   "metadata": {},
   "outputs": [],
   "source": [
    "#Filter kernel\n",
    "kernel = np.random.rand(3,3,3)"
   ]
  },
  {
   "cell_type": "code",
   "execution_count": 13,
   "id": "60c0d3a8",
   "metadata": {},
   "outputs": [
    {
     "data": {
      "text/plain": [
       "<matplotlib.image.AxesImage at 0x1e13bc70430>"
      ]
     },
     "execution_count": 13,
     "metadata": {},
     "output_type": "execute_result"
    },
    {
     "data": {
      "image/png": "[encoded data removed]",
      "text/plain": [
       "<Figure size 432x288 with 1 Axes>"
      ]
     },
     "metadata": {
      "needs_background": "light"
     },
     "output_type": "display_data"
    }
   ],
   "source": [
    "#Kernel plot\n",
    "plt.imshow(kernel)"
   ]
  },
  {
   "cell_type": "code",
   "execution_count": 14,
   "id": "45d2ae3c",
   "metadata": {},
   "outputs": [],
   "source": [
    "#Convolution of image\n",
    "conv_im = conv(array,kernel,stride=1,padding=2,act_function=sigmoid)"
   ]
  },
  {
   "cell_type": "code",
   "execution_count": 15,
   "id": "9e01e0b9",
   "metadata": {},
   "outputs": [
    {
     "data": {
      "text/plain": [
       "<matplotlib.image.AxesImage at 0x1e13bcde1f0>"
      ]
     },
     "execution_count": 15,
     "metadata": {},
     "output_type": "execute_result"
    },
    {
     "data": {
      "image/png": "[encoded data removed]",
      "text/plain": [
       "<Figure size 432x288 with 1 Axes>"
      ]
     },
     "metadata": {
      "needs_background": "light"
     },
     "output_type": "display_data"
    }
   ],
   "source": [
    "#Output activation map\n",
    "plt.imshow((conv_im))"
   ]
  },
  {
   "cell_type": "markdown",
   "id": "4f6ff444",
   "metadata": {},
   "source": [
    "## 2) Pooling function"
   ]
  },
  {
   "cell_type": "code",
   "execution_count": 20,
   "id": "8c2bab5e",
   "metadata": {},
   "outputs": [],
   "source": [
    "#Max Pooling\n",
    "def max_pool(image,stride,pool_size):\n",
    "    H = image.shape[0]\n",
    "    W = image.shape[1]\n",
    "    pool_h = ((H-pool_size)//stride) + 1\n",
    "    pool_w = ((W-pool_size)//stride) + 1 \n",
    "    pooled_array = np.zeros((pool_h,pool_w))\n",
    "    i1 = 0\n",
    "    for i in range(0,H-pool_size+1,stride):\n",
    "        j1 = 0\n",
    "        for j in range(0,W-pool_size+1,stride):\n",
    "            pooled_array[i1,j1] = np.max(image[i:i+pool_size,j:j+pool_size])\n",
    "            j1+=1\n",
    "        i1+=1\n",
    "    return pooled_array\n",
    "        \n",
    "            \n",
    "    "
   ]
  },
  {
   "cell_type": "code",
   "execution_count": 21,
   "id": "1d2af317",
   "metadata": {},
   "outputs": [],
   "source": [
    "#Avg Pooling\n",
    "def avg_pool(image,stride,pool_size):\n",
    "    H = image.shape[0]\n",
    "    W = image.shape[1]\n",
    "    pool_h = ((H-pool_size)//stride) + 1\n",
    "    pool_w = ((W-pool_size)//stride) + 1 \n",
    "    pooled_array = np.zeros((pool_h,pool_w))\n",
    "    i1 = 0\n",
    "    for i in range(0,H-pool_size+1,stride):\n",
    "        j1 = 0\n",
    "        for j in range(0,W-pool_size+1,stride):\n",
    "            pooled_array[i1,j1] = np.average(image[i:i+pool_size,j:j+pool_size])\n",
    "            j1+=1\n",
    "        i1+=1\n",
    "    return pooled_array"
   ]
  },
  {
   "cell_type": "code",
   "execution_count": 22,
   "id": "c32c45e4",
   "metadata": {},
   "outputs": [],
   "source": [
    "def pooling(image,stride,pool_fn,pool_size):\n",
    "    return(pool_fn(image,stride,pool_size))\n"
   ]
  },
  {
   "cell_type": "markdown",
   "id": "fb782bdc",
   "metadata": {},
   "source": [
    "## 3)Convolution layer function"
   ]
  },
  {
   "cell_type": "code",
   "execution_count": 23,
   "id": "41120129",
   "metadata": {},
   "outputs": [],
   "source": [
    "def conv_layer(image,kernels,stride,padding,act_function):\n",
    "    \n",
    "    kernel_depth = len(kernels)\n",
    "    conv_h = (int((image.shape[0]-3 + 2*padding)/stride) + 1)\n",
    "    conv_w = (int((image.shape[1]-3 + 2*padding)/stride) + 1)\n",
    "    \n",
    "    conv_output = np.zeros((conv_h,conv_w,kernel_depth))\n",
    "    \n",
    "    for i in range(kernel_depth):\n",
    "#         kernel = np.random.randint(2,size = kernel_size)\n",
    "        conv_output[:,:,i] = conv(image,kernels[i],stride,padding,act_function)\n",
    "    return conv_output\n",
    "    "
   ]
  },
  {
   "cell_type": "code",
   "execution_count": 24,
   "id": "8c7ca6a0",
   "metadata": {},
   "outputs": [],
   "source": [
    "def get_kernels(number,size):\n",
    "    kernels = []\n",
    "    W = size[0]\n",
    "    H = size[1]\n",
    "    C = size[2]\n",
    "    for i in range(number):\n",
    "        kernel = np.random.rand(W,H,C)\n",
    "        \n",
    "        kernels.append(kernel)\n",
    "    return kernels"
   ]
  },
  {
   "cell_type": "code",
   "execution_count": 76,
   "id": "bdafea58",
   "metadata": {},
   "outputs": [
    {
     "data": {
      "image/png": "[encoded data removed]",
      "text/plain": [
       "<Figure size 2400x2400 with 16 Axes>"
      ]
     },
     "metadata": {
      "needs_background": "light"
     },
     "output_type": "display_data"
    }
   ],
   "source": [
    "#Kernels\n",
    "kernels = get_kernels(16,(3,3,3))\n",
    "\n",
    "fig = plt.figure(figsize=(8,8),dpi=300)\n",
    "rows = len(kernels)//2\n",
    "columns =len(kernels)//2\n",
    "\n",
    "for i in range(1,len(kernels)+1):\n",
    "    fig.add_subplot(rows,columns,i)\n",
    "    plt.axis('off')\n",
    "    plt.imshow(kernels[i-1])"
   ]
  },
  {
   "cell_type": "code",
   "execution_count": 80,
   "id": "8f365ca8",
   "metadata": {},
   "outputs": [],
   "source": [
    "#Conv layer output\n",
    "conv_output = conv_layer(array,kernels=kernels,stride=2,padding=2,act_function=sigmoid)"
   ]
  },
  {
   "cell_type": "code",
   "execution_count": 27,
   "id": "272f2b4d",
   "metadata": {},
   "outputs": [
    {
     "data": {
      "text/plain": [
       "(32, 32, 3)"
      ]
     },
     "execution_count": 27,
     "metadata": {},
     "output_type": "execute_result"
    }
   ],
   "source": [
    "#Input shape\n",
    "array.shape"
   ]
  },
  {
   "cell_type": "code",
   "execution_count": 28,
   "id": "0ffcfc82",
   "metadata": {},
   "outputs": [
    {
     "data": {
      "text/plain": [
       "(17, 17, 16)"
      ]
     },
     "execution_count": 28,
     "metadata": {},
     "output_type": "execute_result"
    }
   ],
   "source": [
    "#Conv layer output shape\n",
    "conv_output.shape"
   ]
  },
  {
   "cell_type": "code",
   "execution_count": 29,
   "id": "6dd7b22d",
   "metadata": {},
   "outputs": [
    {
     "data": {
      "image/png": "[encoded data removed]",
      "text/plain": [
       "<Figure size 2400x2400 with 16 Axes>"
      ]
     },
     "metadata": {
      "needs_background": "light"
     },
     "output_type": "display_data"
    }
   ],
   "source": [
    "#Activation maps \n",
    "fig = plt.figure(figsize= (8,8),dpi=300)\n",
    "rows = conv_output.shape[2]//2\n",
    "columns = conv_output.shape[2]//2\n",
    "\n",
    "for i in range(1,conv_output.shape[2]+1):\n",
    "    fig.add_subplot(rows,columns,i)\n",
    "    plt.axis('off')\n",
    "    plt.imshow(conv_output[:,:,i-1])\n",
    "\n",
    "    "
   ]
  },
  {
   "cell_type": "markdown",
   "id": "d4c1918d",
   "metadata": {},
   "source": [
    "## 4)Pooling layer function"
   ]
  },
  {
   "cell_type": "code",
   "execution_count": 30,
   "id": "d569c966",
   "metadata": {},
   "outputs": [],
   "source": [
    "def pooling_layer(act_map,pool_fn,stride,pool_size):\n",
    "    H = act_map.shape[0]\n",
    "    W = act_map.shape[1]\n",
    "    C = act_map.shape[2]\n",
    "    pool_h = ((H-pool_size)//stride) + 1\n",
    "    pool_w = ((W-pool_size)//stride) + 1 \n",
    "    \n",
    "    pool_output = np.zeros((pool_h,pool_w,C))\n",
    "    \n",
    "    for i in range(C):\n",
    "        pool_output[:,:,i] = pool_fn(act_map[:,:,i],stride,pool_size)\n",
    "    return pool_output"
   ]
  },
  {
   "cell_type": "code",
   "execution_count": 31,
   "id": "177a7fe2",
   "metadata": {},
   "outputs": [],
   "source": [
    "pool_output = pooling_layer(conv_output,max_pool,stride=2,pool_size=2)"
   ]
  },
  {
   "cell_type": "code",
   "execution_count": 32,
   "id": "ffcea7be",
   "metadata": {},
   "outputs": [
    {
     "data": {
      "text/plain": [
       "(8, 8, 16)"
      ]
     },
     "execution_count": 32,
     "metadata": {},
     "output_type": "execute_result"
    }
   ],
   "source": [
    "pool_output.shape"
   ]
  },
  {
   "cell_type": "code",
   "execution_count": 33,
   "id": "75033a9a",
   "metadata": {},
   "outputs": [
    {
     "data": {
      "image/png": "[encoded data removed]",
      "text/plain": [
       "<Figure size 2400x2400 with 16 Axes>"
      ]
     },
     "metadata": {
      "needs_background": "light"
     },
     "output_type": "display_data"
    }
   ],
   "source": [
    "#Pooling maps \n",
    "fig = plt.figure(figsize= (8,8),dpi=300)\n",
    "rows = pool_output.shape[2]//2\n",
    "columns = pool_output.shape[2]//2\n",
    "\n",
    "for i in range(1,pool_output.shape[2]+1):\n",
    "    fig.add_subplot(rows,columns,i)\n",
    "    plt.axis('off')\n",
    "    plt.imshow(pool_output[:,:,i-1])\n"
   ]
  },
  {
   "cell_type": "markdown",
   "id": "c3576903",
   "metadata": {},
   "source": [
    "## 5) Flattening(unravelling) function"
   ]
  },
  {
   "cell_type": "code",
   "execution_count": 34,
   "id": "acffba64",
   "metadata": {},
   "outputs": [],
   "source": [
    "def flattening_layer(act_maps,size):\n",
    "    H = act_maps.shape[0]\n",
    "    W = act_maps.shape[1]\n",
    "    C = act_maps.shape[2]\n",
    "    \n",
    "    feature_size = act_maps.shape[0]*act_maps.shape[1]*act_maps.shape[2]\n",
    "    flatten_array = np.random.rand(size,feature_size)\n",
    "    flattened_input = np.zeros(feature_size)\n",
    "    ind = 0\n",
    "    for i in range(C):\n",
    "        for j in range(W):\n",
    "            for k in range(H):\n",
    "                flattened_input[ind] = act_maps[k,j,i]\n",
    "                ind+=1\n",
    "    return np.matmul(flatten_array,flattened_input.reshape((feature_size,1)))"
   ]
  },
  {
   "cell_type": "code",
   "execution_count": 35,
   "id": "dfb767b4",
   "metadata": {},
   "outputs": [],
   "source": [
    "flattened_output = flattening_layer(pool_output,100)"
   ]
  },
  {
   "cell_type": "markdown",
   "id": "c2e819e5",
   "metadata": {},
   "source": [
    "## 6) MLP"
   ]
  },
  {
   "cell_type": "code",
   "execution_count": 188,
   "id": "f2839589",
   "metadata": {},
   "outputs": [],
   "source": [
    "def MLP(vector,hidden_layers,hidden_layer_size,act_function,output_size,softmax=True):\n",
    "    def softmax_fn(x):\n",
    "        length = x.shape[0]   \n",
    "        exp = np.exp(x)\n",
    "        x = exp/sum(exp)\n",
    "        return x\n",
    "    \n",
    "    weights = []\n",
    "\n",
    "    for i in range(hidden_layers):\n",
    "        if i == 0:\n",
    "            np.random.seed(0)\n",
    "            weight = np.random.rand(hidden_layer_size[i],vector.shape[0]+1)\n",
    "            weights.append(weight)\n",
    "        elif i > 0:\n",
    "            np.random.seed(0)\n",
    "            weight = np.random.rand(hidden_layer_size[i],hidden_layer_size[i-1]+1)\n",
    "            weights.append(weight)\n",
    "    np.random.seed(0)\n",
    "    weight = np.random.rand(output_size,hidden_layer_size[len(hidden_layer_size)-1]+1)\n",
    "    weights.append(weight)\n",
    "\n",
    "    inputs = []\n",
    "    inputs.append(vector)\n",
    "    for i in range(hidden_layers+1):\n",
    "        outputs = act_function(np.matmul(weights[i],np.insert(inputs[i],0,1,axis=0)))\n",
    "        inputs.append(outputs)\n",
    "\n",
    "    if softmax:\n",
    "        return(softmax_fn(inputs[-1]))\n",
    "    else:\n",
    "        return(inputs[-1])"
   ]
  },
  {
   "cell_type": "code",
   "execution_count": 153,
   "id": "c3919331",
   "metadata": {
    "scrolled": true
   },
   "outputs": [
    {
     "data": {
      "text/plain": [
       "array([[0.10000824],\n",
       "       [0.10000717],\n",
       "       [0.099979  ],\n",
       "       [0.09999136],\n",
       "       [0.10000176],\n",
       "       [0.1000084 ],\n",
       "       [0.1000056 ],\n",
       "       [0.10000806],\n",
       "       [0.10000261],\n",
       "       [0.09998779]])"
      ]
     },
     "execution_count": 153,
     "metadata": {},
     "output_type": "execute_result"
    }
   ],
   "source": [
    "#MLP output with softmax\n",
    "output = MLP(flattened_output,1,[20],sigmoid,10)\n",
    "output"
   ]
  },
  {
   "cell_type": "code",
   "execution_count": 155,
   "id": "57ebc340",
   "metadata": {},
   "outputs": [
    {
     "data": {
      "text/plain": [
       "array([[0.99999666],\n",
       "       [0.99998598],\n",
       "       [0.99970431],\n",
       "       [0.99982795],\n",
       "       [0.99993196],\n",
       "       [0.99999834],\n",
       "       [0.99997034],\n",
       "       [0.99999495],\n",
       "       [0.99994041],\n",
       "       [0.99979217]])"
      ]
     },
     "execution_count": 155,
     "metadata": {},
     "output_type": "execute_result"
    }
   ],
   "source": [
    "#MLP output without softmax\n",
    "output = MLP(flattened_output,2,[30,20],sigmoid,10,softmax=False)\n",
    "output"
   ]
  },
  {
   "cell_type": "markdown",
   "id": "05f20406",
   "metadata": {},
   "source": [
    "## 7)Feed-forward path"
   ]
  },
  {
   "cell_type": "code",
   "execution_count": 124,
   "id": "58073625",
   "metadata": {},
   "outputs": [],
   "source": [
    "kernels1 = get_kernels(16,size=(3,3,3))\n",
    "kernels2 = get_kernels(8,size=(3,3,16))"
   ]
  },
  {
   "cell_type": "markdown",
   "id": "0baab90c",
   "metadata": {},
   "source": [
    "#### The C2 value for the second conv layer is the number of channels in the output of the previous layer. C2 = 16"
   ]
  },
  {
   "cell_type": "code",
   "execution_count": 189,
   "id": "fe96ef0e",
   "metadata": {},
   "outputs": [],
   "source": [
    "def feedforward_path(image,output_size):\n",
    "    print(\"Input Image shape: \",image.shape)\n",
    "#     kernels1 = get_kernels(16,size=(3,3,image.shape[2]))\n",
    "    conv_output1 = conv_layer(image,kernels=kernels1,stride=1,padding=0,act_function=sigmoid)\n",
    "    print(\"\\nOutput shape of first conv layer: \",conv_output1.shape)\n",
    "    pool_output1 = pooling_layer(conv_output1,max_pool,stride=2,pool_size=2)\n",
    "    print(\"\\nOutput shape of first pool layer: \",pool_output1.shape)\n",
    "#     kernels2 = get_kernels(8,size=(3,3,pool_output.shape[2]))\n",
    "    conv_output2 = conv_layer(pool_output1,kernels=kernels2,stride=1,padding=0,act_function=sigmoid)\n",
    "    print(\"\\nOutput shape of second conv layer: \",conv_output2.shape)\n",
    "    pool_output2 = pooling_layer(conv_output2,max_pool,stride=2,pool_size=2)\n",
    "    print(\"\\nOutput shape of second pool layer: \",pool_output2.shape)\n",
    "    flattened_output = flattening_layer(pool_output2,100)\n",
    "    print(\"\\nFlattened output layer shape: \",flattened_output.shape)\n",
    "    output = MLP(flattened_output,hidden_layers=1,hidden_layer_size=[20],act_function=sigmoid,output_size=output_size,softmax=True)\n",
    "    print(\"\\n Output of MLP shape: \",output.shape)\n",
    "    return output"
   ]
  },
  {
   "cell_type": "code",
   "execution_count": 161,
   "id": "3247373a",
   "metadata": {},
   "outputs": [],
   "source": [
    "# cifar = unpickle(\"D:\\Classes\\Deep Learning\\Assignments\\cifar\\cifar-10-batches-py\\data_batch_1\")\n",
    "data = cifar[b'data']\n",
    "labels = cifar[b'labels']\n"
   ]
  },
  {
   "cell_type": "markdown",
   "id": "6e98974e",
   "metadata": {},
   "source": [
    "## 8) (a)"
   ]
  },
  {
   "cell_type": "code",
   "execution_count": 143,
   "id": "a99e159d",
   "metadata": {},
   "outputs": [],
   "source": [
    "#Cifar images\n",
    "class_1_input = np.reshape(data[labels.index(0)],(3,32,32)).transpose(1,2,0)\n",
    "class_2_input = np.reshape(data[labels.index(1)],(3,32,32)).transpose(1,2,0)\n",
    "class_3_input = np.reshape(data[labels.index(2)],(3,32,32)).transpose(1,2,0)\n",
    "class_4_input = np.reshape(data[labels.index(3)],(3,32,32)).transpose(1,2,0)\n",
    "class_5_input = np.reshape(data[labels.index(4)],(3,32,32)).transpose(1,2,0)\n",
    "class_6_input = np.reshape(data[labels.index(5)],(3,32,32)).transpose(1,2,0)\n",
    "class_7_input = np.reshape(data[labels.index(6)],(3,32,32)).transpose(1,2,0)\n",
    "class_8_input = np.reshape(data[labels.index(7)],(3,32,32)).transpose(1,2,0)\n",
    "class_9_input = np.reshape(data[labels.index(8)],(3,32,32)).transpose(1,2,0)\n",
    "class_10_input = np.reshape(data[labels.index(9)],(3,32,32)).transpose(1,2,0)\n"
   ]
  },
  {
   "cell_type": "code",
   "execution_count": 190,
   "id": "dce036e6",
   "metadata": {},
   "outputs": [
    {
     "name": "stdout",
     "output_type": "stream",
     "text": [
      "Input Image shape:  (32, 32, 3)\n",
      "\n",
      "Output shape of first conv layer:  (30, 30, 16)\n",
      "\n",
      "Output shape of first pool layer:  (15, 15, 16)\n",
      "\n",
      "Output shape of second conv layer:  (13, 13, 8)\n",
      "\n",
      "Output shape of second pool layer:  (6, 6, 8)\n",
      "\n",
      "Flattened output layer shape:  (100, 1)\n",
      "\n",
      " Output of MLP shape:  (10, 1)\n"
     ]
    }
   ],
   "source": [
    "output = feedforward_path(class_1_input,10)"
   ]
  },
  {
   "cell_type": "code",
   "execution_count": 191,
   "id": "ad0eaa37",
   "metadata": {},
   "outputs": [
    {
     "name": "stdout",
     "output_type": "stream",
     "text": [
      "Input Image shape:  (32, 32, 3)\n",
      "\n",
      "Output shape of first conv layer:  (30, 30, 16)\n",
      "\n",
      "Output shape of first pool layer:  (15, 15, 16)\n",
      "\n",
      "Output shape of second conv layer:  (13, 13, 8)\n",
      "\n",
      "Output shape of second pool layer:  (6, 6, 8)\n",
      "\n",
      "Flattened output layer shape:  (100, 1)\n",
      "\n",
      " Output of MLP shape:  (10, 1)\n"
     ]
    }
   ],
   "source": [
    "output = feedforward_path(class_2_input,10)"
   ]
  },
  {
   "cell_type": "code",
   "execution_count": 192,
   "id": "008ced7d",
   "metadata": {},
   "outputs": [
    {
     "name": "stdout",
     "output_type": "stream",
     "text": [
      "Input Image shape:  (32, 32, 3)\n",
      "\n",
      "Output shape of first conv layer:  (30, 30, 16)\n",
      "\n",
      "Output shape of first pool layer:  (15, 15, 16)\n",
      "\n",
      "Output shape of second conv layer:  (13, 13, 8)\n",
      "\n",
      "Output shape of second pool layer:  (6, 6, 8)\n",
      "\n",
      "Flattened output layer shape:  (100, 1)\n",
      "\n",
      " Output of MLP shape:  (10, 1)\n"
     ]
    },
    {
     "data": {
      "text/plain": [
       "array([[0.10000824],\n",
       "       [0.10000717],\n",
       "       [0.099979  ],\n",
       "       [0.09999136],\n",
       "       [0.10000176],\n",
       "       [0.1000084 ],\n",
       "       [0.1000056 ],\n",
       "       [0.10000806],\n",
       "       [0.10000261],\n",
       "       [0.09998779]])"
      ]
     },
     "execution_count": 192,
     "metadata": {},
     "output_type": "execute_result"
    }
   ],
   "source": [
    "feedforward_path(class_3_input,10)"
   ]
  },
  {
   "cell_type": "code",
   "execution_count": 193,
   "id": "a2bdf9bc",
   "metadata": {},
   "outputs": [
    {
     "name": "stdout",
     "output_type": "stream",
     "text": [
      "Input Image shape:  (32, 32, 3)\n",
      "\n",
      "Output shape of first conv layer:  (30, 30, 16)\n",
      "\n",
      "Output shape of first pool layer:  (15, 15, 16)\n",
      "\n",
      "Output shape of second conv layer:  (13, 13, 8)\n",
      "\n",
      "Output shape of second pool layer:  (6, 6, 8)\n",
      "\n",
      "Flattened output layer shape:  (100, 1)\n",
      "\n",
      " Output of MLP shape:  (10, 1)\n"
     ]
    },
    {
     "data": {
      "text/plain": [
       "array([[0.10000824],\n",
       "       [0.10000717],\n",
       "       [0.099979  ],\n",
       "       [0.09999136],\n",
       "       [0.10000176],\n",
       "       [0.1000084 ],\n",
       "       [0.1000056 ],\n",
       "       [0.10000806],\n",
       "       [0.10000261],\n",
       "       [0.09998779]])"
      ]
     },
     "execution_count": 193,
     "metadata": {},
     "output_type": "execute_result"
    }
   ],
   "source": [
    "feedforward_path(class_4_input,10)"
   ]
  },
  {
   "cell_type": "code",
   "execution_count": 194,
   "id": "ee2ecd47",
   "metadata": {},
   "outputs": [
    {
     "name": "stdout",
     "output_type": "stream",
     "text": [
      "Input Image shape:  (32, 32, 3)\n",
      "\n",
      "Output shape of first conv layer:  (30, 30, 16)\n",
      "\n",
      "Output shape of first pool layer:  (15, 15, 16)\n",
      "\n",
      "Output shape of second conv layer:  (13, 13, 8)\n",
      "\n",
      "Output shape of second pool layer:  (6, 6, 8)\n",
      "\n",
      "Flattened output layer shape:  (100, 1)\n",
      "\n",
      " Output of MLP shape:  (10, 1)\n"
     ]
    },
    {
     "data": {
      "text/plain": [
       "array([[0.10000824],\n",
       "       [0.10000717],\n",
       "       [0.099979  ],\n",
       "       [0.09999136],\n",
       "       [0.10000176],\n",
       "       [0.1000084 ],\n",
       "       [0.1000056 ],\n",
       "       [0.10000806],\n",
       "       [0.10000261],\n",
       "       [0.09998779]])"
      ]
     },
     "execution_count": 194,
     "metadata": {},
     "output_type": "execute_result"
    }
   ],
   "source": [
    "feedforward_path(class_5_input,10)"
   ]
  },
  {
   "cell_type": "code",
   "execution_count": 195,
   "id": "214afc36",
   "metadata": {},
   "outputs": [
    {
     "name": "stdout",
     "output_type": "stream",
     "text": [
      "Input Image shape:  (32, 32, 3)\n",
      "\n",
      "Output shape of first conv layer:  (30, 30, 16)\n",
      "\n",
      "Output shape of first pool layer:  (15, 15, 16)\n",
      "\n",
      "Output shape of second conv layer:  (13, 13, 8)\n",
      "\n",
      "Output shape of second pool layer:  (6, 6, 8)\n",
      "\n",
      "Flattened output layer shape:  (100, 1)\n",
      "\n",
      " Output of MLP shape:  (10, 1)\n"
     ]
    },
    {
     "data": {
      "text/plain": [
       "array([[0.10000824],\n",
       "       [0.10000717],\n",
       "       [0.099979  ],\n",
       "       [0.09999136],\n",
       "       [0.10000176],\n",
       "       [0.1000084 ],\n",
       "       [0.1000056 ],\n",
       "       [0.10000806],\n",
       "       [0.10000261],\n",
       "       [0.09998779]])"
      ]
     },
     "execution_count": 195,
     "metadata": {},
     "output_type": "execute_result"
    }
   ],
   "source": [
    "feedforward_path(class_6_input,10)"
   ]
  },
  {
   "cell_type": "code",
   "execution_count": 196,
   "id": "450c447f",
   "metadata": {},
   "outputs": [
    {
     "name": "stdout",
     "output_type": "stream",
     "text": [
      "Input Image shape:  (32, 32, 3)\n",
      "\n",
      "Output shape of first conv layer:  (30, 30, 16)\n",
      "\n",
      "Output shape of first pool layer:  (15, 15, 16)\n",
      "\n",
      "Output shape of second conv layer:  (13, 13, 8)\n",
      "\n",
      "Output shape of second pool layer:  (6, 6, 8)\n",
      "\n",
      "Flattened output layer shape:  (100, 1)\n",
      "\n",
      " Output of MLP shape:  (10, 1)\n"
     ]
    },
    {
     "data": {
      "text/plain": [
       "array([[0.10000824],\n",
       "       [0.10000717],\n",
       "       [0.099979  ],\n",
       "       [0.09999136],\n",
       "       [0.10000176],\n",
       "       [0.1000084 ],\n",
       "       [0.1000056 ],\n",
       "       [0.10000806],\n",
       "       [0.10000261],\n",
       "       [0.09998779]])"
      ]
     },
     "execution_count": 196,
     "metadata": {},
     "output_type": "execute_result"
    }
   ],
   "source": [
    "feedforward_path(class_7_input,10)"
   ]
  },
  {
   "cell_type": "code",
   "execution_count": 197,
   "id": "e47922b1",
   "metadata": {},
   "outputs": [
    {
     "name": "stdout",
     "output_type": "stream",
     "text": [
      "Input Image shape:  (32, 32, 3)\n",
      "\n",
      "Output shape of first conv layer:  (30, 30, 16)\n",
      "\n",
      "Output shape of first pool layer:  (15, 15, 16)\n",
      "\n",
      "Output shape of second conv layer:  (13, 13, 8)\n",
      "\n",
      "Output shape of second pool layer:  (6, 6, 8)\n",
      "\n",
      "Flattened output layer shape:  (100, 1)\n",
      "\n",
      " Output of MLP shape:  (10, 1)\n"
     ]
    },
    {
     "data": {
      "text/plain": [
       "array([[0.10000824],\n",
       "       [0.10000717],\n",
       "       [0.099979  ],\n",
       "       [0.09999136],\n",
       "       [0.10000176],\n",
       "       [0.1000084 ],\n",
       "       [0.1000056 ],\n",
       "       [0.10000806],\n",
       "       [0.10000261],\n",
       "       [0.09998779]])"
      ]
     },
     "execution_count": 197,
     "metadata": {},
     "output_type": "execute_result"
    }
   ],
   "source": [
    "feedforward_path(class_8_input,10)"
   ]
  },
  {
   "cell_type": "code",
   "execution_count": 198,
   "id": "226685c0",
   "metadata": {},
   "outputs": [
    {
     "name": "stdout",
     "output_type": "stream",
     "text": [
      "Input Image shape:  (32, 32, 3)\n",
      "\n",
      "Output shape of first conv layer:  (30, 30, 16)\n",
      "\n",
      "Output shape of first pool layer:  (15, 15, 16)\n",
      "\n",
      "Output shape of second conv layer:  (13, 13, 8)\n",
      "\n",
      "Output shape of second pool layer:  (6, 6, 8)\n",
      "\n",
      "Flattened output layer shape:  (100, 1)\n",
      "\n",
      " Output of MLP shape:  (10, 1)\n"
     ]
    },
    {
     "data": {
      "text/plain": [
       "array([[0.10000824],\n",
       "       [0.10000717],\n",
       "       [0.099979  ],\n",
       "       [0.09999136],\n",
       "       [0.10000176],\n",
       "       [0.1000084 ],\n",
       "       [0.1000056 ],\n",
       "       [0.10000806],\n",
       "       [0.10000261],\n",
       "       [0.09998779]])"
      ]
     },
     "execution_count": 198,
     "metadata": {},
     "output_type": "execute_result"
    }
   ],
   "source": [
    "feedforward_path(class_9_input,10)"
   ]
  },
  {
   "cell_type": "markdown",
   "id": "d8f94ec5",
   "metadata": {},
   "source": [
    "### It looks like all the output vectors are same regardless of the input. Since the all the outputs of the first hidden layer become 1, because of the sigmoid function, the output after the hidden layer is just the sum of the weights, which remains the same regardless of the input. Hence the output after softmax gives the same vector."
   ]
  },
  {
   "cell_type": "markdown",
   "id": "6e17ccb9",
   "metadata": {},
   "source": [
    "## 8)(b)"
   ]
  },
  {
   "cell_type": "code",
   "execution_count": 459,
   "id": "56f701ad",
   "metadata": {},
   "outputs": [],
   "source": [
    "from sklearn.manifold import TSNE"
   ]
  },
  {
   "cell_type": "code",
   "execution_count": 460,
   "id": "fb7f7f52",
   "metadata": {},
   "outputs": [],
   "source": [
    "def get_images(number,cls):\n",
    "    class_labels = [i for i in range(len(labels)) if labels[i]==cls]\n",
    "    image_list = []\n",
    "    for i in range(number): \n",
    "        class_1 = np.reshape(data[class_labels[np.random.randint(0,len(class_labels))]],(3,32,32)).transpose(1,2,0)\n",
    "        image_list.append(class_1)\n",
    "\n",
    "    return image_list\n"
   ]
  },
  {
   "cell_type": "code",
   "execution_count": 461,
   "id": "053d6a41",
   "metadata": {},
   "outputs": [],
   "source": [
    "def flattened_output(image,output_size):\n",
    "#     print(\"Input Image shape: \",image.shape)\n",
    "    kernels1 = get_kernels(16,size=(3,3,image.shape[2]))\n",
    "    conv_output1 = conv_layer(image,kernels=kernels1,stride=1,padding=0,act_function=sigmoid)\n",
    "#     print(\"\\nOutput shape of first conv layer: \",conv_output1.shape)\n",
    "    pool_output1 = pooling_layer(conv_output1,max_pool,stride=2,pool_size=2)\n",
    "#     print(\"\\nOutput shape of first pool layer: \",pool_output1.shape)\n",
    "    kernels2 = get_kernels(8,size=(3,3,pool_output.shape[2]))\n",
    "    conv_output2 = conv_layer(pool_output1,kernels=kernels2,stride=1,padding=0,act_function=sigmoid)\n",
    "#     print(\"\\nOutput shape of second conv layer: \",conv_output2.shape)\n",
    "    pool_output2 = pooling_layer(conv_output2,max_pool,stride=2,pool_size=2)\n",
    "#     print(\"\\nOutput shape of second pool layer: \",pool_output2.shape)\n",
    "    flattened_output = flattening_layer(pool_output2,output_size)\n",
    "    return flattened_output"
   ]
  },
  {
   "cell_type": "code",
   "execution_count": 462,
   "id": "5032e877",
   "metadata": {},
   "outputs": [],
   "source": [
    "class_1 = get_images(3,0)\n",
    "class_2 = get_images(3,1)\n",
    "class_3 = get_images(3,2)\n",
    "class_4 = get_images(3,3)\n",
    "class_5 = get_images(3,4)\n",
    "class_6 = get_images(3,5)\n",
    "class_7 = get_images(3,6)\n",
    "class_8 = get_images(3,7)\n",
    "class_9 = get_images(3,8)\n",
    "class_10 = get_images(3,9)"
   ]
  },
  {
   "cell_type": "code",
   "execution_count": 463,
   "id": "db4783b6",
   "metadata": {},
   "outputs": [],
   "source": [
    "images_list = [class_1,class_2,class_3,class_4,class_5,class_6,class_7,class_8,class_9,class_10]"
   ]
  },
  {
   "cell_type": "code",
   "execution_count": 464,
   "id": "957d824c",
   "metadata": {},
   "outputs": [],
   "source": [
    "output_list = []\n",
    "for i in range(10):\n",
    "    for j in range(3):\n",
    "        output = flattened_output(images_list[i][j],10)\n",
    "        output_list.append(output)\n",
    "        \n",
    "    "
   ]
  },
  {
   "cell_type": "code",
   "execution_count": 465,
   "id": "693df70c",
   "metadata": {},
   "outputs": [],
   "source": [
    "output_array = np.array(output_list)"
   ]
  },
  {
   "cell_type": "code",
   "execution_count": 466,
   "id": "83aa670d",
   "metadata": {},
   "outputs": [],
   "source": [
    "output_array = output_array.reshape((30,10))"
   ]
  },
  {
   "cell_type": "code",
   "execution_count": 467,
   "id": "ececf8b3",
   "metadata": {},
   "outputs": [],
   "source": [
    "tsne = TSNE(n_components=2)"
   ]
  },
  {
   "cell_type": "code",
   "execution_count": 468,
   "id": "30318fa8",
   "metadata": {},
   "outputs": [
    {
     "name": "stderr",
     "output_type": "stream",
     "text": [
      "C:\\Users\\aksha\\miniconda3\\envs\\tfgpu\\lib\\site-packages\\sklearn\\manifold\\_t_sne.py:780: FutureWarning: The default initialization in TSNE will change from 'random' to 'pca' in 1.2.\n",
      "  warnings.warn(\n",
      "C:\\Users\\aksha\\miniconda3\\envs\\tfgpu\\lib\\site-packages\\sklearn\\manifold\\_t_sne.py:790: FutureWarning: The default learning rate in TSNE will change from 200.0 to 'auto' in 1.2.\n",
      "  warnings.warn(\n"
     ]
    }
   ],
   "source": [
    "X_output = tsne.fit_transform(output_array)"
   ]
  },
  {
   "cell_type": "code",
   "execution_count": 469,
   "id": "3b2893a7",
   "metadata": {},
   "outputs": [],
   "source": [
    "color = ['blue']*3 + ['red']*3 + ['orange']*3 + ['brown']*3+ ['black']*3 + ['yellow']*3 + ['violet']*3 + ['green']*3 + ['pink']*3 + ['maroon']*3"
   ]
  },
  {
   "cell_type": "code",
   "execution_count": 563,
   "id": "356f988b",
   "metadata": {},
   "outputs": [
    {
     "data": {
      "text/plain": [
       "<matplotlib.collections.PathCollection at 0x1e6ec61a850>"
      ]
     },
     "execution_count": 563,
     "metadata": {},
     "output_type": "execute_result"
    },
    {
     "data": {
      "image/png": "[encoded data removed]",
      "text/plain": [
       "<Figure size 432x288 with 1 Axes>"
      ]
     },
     "metadata": {
      "needs_background": "light"
     },
     "output_type": "display_data"
    }
   ],
   "source": [
    "#TSNE Output\n",
    "plt.scatter(x=X_output[:,0],y=X_output[:,1],c=color)"
   ]
  },
  {
   "cell_type": "markdown",
   "id": "07be64f5",
   "metadata": {},
   "source": [
    "   ## The randomly initialized network does not show any discriminability within classes."
   ]
  },
  {
   "cell_type": "code",
   "execution_count": null,
   "id": "3bccf5bc",
   "metadata": {},
   "outputs": [],
   "source": []
  }
 ],
 "metadata": {
  "kernelspec": {
   "display_name": "Python 3",
   "language": "python",
   "name": "python3"
  },
  "language_info": {
   "codemirror_mode": {
    "name": "ipython",
    "version": 3
   },
   "file_extension": ".py",
   "mimetype": "text/x-python",
   "name": "python",
   "nbconvert_exporter": "python",
   "pygments_lexer": "ipython3",
   "version": "3.8.12"
  }
 },
 "nbformat": 4,
 "nbformat_minor": 5
}
